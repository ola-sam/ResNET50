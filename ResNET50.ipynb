{
  "nbformat": 4,
  "nbformat_minor": 0,
  "metadata": {
    "colab": {
      "provenance": [],
      "gpuType": "T4",
      "authorship_tag": "ABX9TyOfrTG6CQG9awZiwydKwzyU",
      "include_colab_link": true
    },
    "kernelspec": {
      "name": "python3",
      "display_name": "Python 3"
    },
    "language_info": {
      "name": "python"
    },
    "accelerator": "GPU"
  },
  "cells": [
    {
      "cell_type": "markdown",
      "metadata": {
        "id": "view-in-github",
        "colab_type": "text"
      },
      "source": [
        "<a href=\"https://colab.research.google.com/github/ola-sam/ResNET50/blob/main/ResNET50.ipynb\" target=\"_parent\"><img src=\"https://colab.research.google.com/assets/colab-badge.svg\" alt=\"Open In Colab\"/></a>"
      ]
    },
    {
      "cell_type": "markdown",
      "source": [
        "This is a notebook for my Residual Network (ResNET50) reference on collab. ResNet50 is a powerful model for image classification when it's trained for an adequate number of iterations. It can be used to perform state-of-the-art classification accuracy."
      ],
      "metadata": {
        "id": "bpgfL0JzinXk"
      }
    },
    {
      "cell_type": "markdown",
      "source": [
        "**Notes**:\n",
        "\n",
        "- Very deep \"plain\" networks don't work in practice because vanishing gradients make them hard to train.  \n",
        "- Skip connections help address the Vanishing Gradient problem. They also make it easy for a ResNet block to learn an identity function.\n",
        "- There are two main types of blocks: The **identity block** and the **convolutional block**.\n",
        "- Very deep Residual Networks are built by stacking these blocks together."
      ],
      "metadata": {
        "id": "N5IWzjLfi7tc"
      }
    },
    {
      "cell_type": "markdown",
      "source": [
        "The purpose of this project is to use ResNET to classify/recognize Signs"
      ],
      "metadata": {
        "id": "TbObpqdrtVG-"
      }
    },
    {
      "cell_type": "code",
      "source": [],
      "metadata": {
        "id": "qDvC_SmCtmyG"
      },
      "execution_count": null,
      "outputs": []
    },
    {
      "cell_type": "code",
      "execution_count": null,
      "metadata": {
        "id": "GX36OSFOSZQ6"
      },
      "outputs": [],
      "source": [
        "import tensorflow as tf\n",
        "import numpy as np\n",
        "import scipy.misc\n",
        "from tensorflow.keras.applications.resnet_v2 import ResNet50V2\n",
        "from tensorflow.keras.preprocessing import image\n",
        "from tensorflow.keras.applications.resnet_v2 import preprocess_input, decode_predictions\n",
        "from tensorflow.keras import layers\n",
        "from tensorflow.keras.layers import Input, Add, Dense, Activation, ZeroPadding2D, Flatten, Conv2D, AveragePooling2D, MaxPooling2D, GlobalMaxPooling2D\n",
        "from tensorflow.keras.models import Model, load_model\n",
        "# from resnets_utils import *\n",
        "from tensorflow.keras.initializers import random_uniform, glorot_uniform, constant, identity\n",
        "from tensorflow.python.framework.ops import EagerTensor\n",
        "from matplotlib.pyplot import imshow\n",
        "\n",
        "\n",
        "# from test_utils import summary, comparator\n",
        "# import public_tests\n",
        "\n",
        "%matplotlib inline\n",
        "np.random.seed(1)\n",
        "tf.random.set_seed(2)"
      ]
    },
    {
      "cell_type": "code",
      "source": [
        "# Other functions and Packages. (Can be created as an utils.py)\n",
        "import os\n",
        "import numpy as np\n",
        "import tensorflow as tf\n",
        "import h5py\n",
        "import math\n",
        "\n",
        "from keras.layers import Layer\n",
        "\n",
        "class BatchNormalization(Layer):\n",
        "    def __init__(self,\n",
        "                 axis=-1,\n",
        "                 momentum=0.90,\n",
        "                 name=None,\n",
        "                 synchronized=False,\n",
        "                 **kwargs):\n",
        "        super().__init__(name=name, **kwargs)\n",
        "        self.axis = axis\n",
        "        self.momentum = momentum\n",
        "\n",
        "    def build(self, input_shape):\n",
        "        self.beta = self.add_weight(\n",
        "            name=\"beta\",\n",
        "            shape=(input_shape[self.axis]),\n",
        "            initializer=\"zeros\",\n",
        "            trainable=True,\n",
        "        )\n",
        "\n",
        "        self.gamma = self.add_weight(\n",
        "            name=\"gamma\",\n",
        "            shape=(input_shape[self.axis]),\n",
        "            initializer=\"ones\",\n",
        "            trainable=True,\n",
        "        )\n",
        "\n",
        "        self.moving_mean = self.add_weight(\n",
        "            name=\"moving_mean\",\n",
        "            shape=(input_shape[self.axis]),\n",
        "            initializer=tf.initializers.zeros,\n",
        "            trainable=False)\n",
        "\n",
        "        self.moving_variance = self.add_weight(\n",
        "            name=\"moving_variance\",\n",
        "            shape=(input_shape[self.axis]),\n",
        "            initializer=tf.initializers.ones,\n",
        "            trainable=False)\n",
        "\n",
        "    def get_moving_average(self, statistic, new_value):\n",
        "        momentum = self.momentum\n",
        "        new_value = statistic * momentum + new_value * (1 - momentum)\n",
        "        return statistic.assign(new_value)\n",
        "\n",
        "    def normalise(self, x, x_mean, x_var):\n",
        "        return (x - x_mean) / tf.sqrt(x_var + 1e-6)\n",
        "\n",
        "    def call(self, inputs, training):\n",
        "        if training:\n",
        "            assert len(inputs.shape) in (2, 4)\n",
        "            if len(inputs.shape) > 2:\n",
        "                axes = [0, 1, 2]\n",
        "            else:\n",
        "                axes = [0]\n",
        "            mean, var = tf.nn.moments(inputs, axes=axes, keepdims=False)\n",
        "            self.moving_mean.assign(self.get_moving_average(self.moving_mean, mean))\n",
        "            self.moving_variance.assign(self.get_moving_average(self.moving_variance, var))\n",
        "        else:\n",
        "            mean, var = self.moving_mean, self.moving_variance\n",
        "        x = self.normalise(inputs, mean, var)\n",
        "        return self.gamma * x + self.beta\n",
        "\n",
        "\n",
        "def load_dataset():\n",
        "    # Read train data file\n",
        "    train_dataset = h5py.File('sample_data/train_signs.h5', \"r\")\n",
        "    # train set x features\n",
        "    train_set_x_orig = np.array(train_dataset[\"train_set_x\"][:])\n",
        "    # train set y labels\n",
        "    train_set_y_orig = np.array(\n",
        "        train_dataset[\"train_set_y\"][:])\n",
        "\n",
        "    # Read test data file\n",
        "    test_dataset = h5py.File('sample_data/test_signs.h5', \"r\")\n",
        "    # test set x features\n",
        "    test_set_x_orig = np.array(test_dataset[\"test_set_x\"][:])\n",
        "    # test set y labels\n",
        "    test_set_y_orig = np.array(\n",
        "        test_dataset[\"test_set_y\"][:])\n",
        "\n",
        "    classes = np.array(test_dataset[\"list_classes\"][:])  # the list of classes\n",
        "\n",
        "    train_set_y_orig = train_set_y_orig.reshape((1, train_set_y_orig.shape[0]))\n",
        "    test_set_y_orig = test_set_y_orig.reshape((1, test_set_y_orig.shape[0]))\n",
        "\n",
        "    return train_set_x_orig, train_set_y_orig, test_set_x_orig, test_set_y_orig, classes\n",
        "\n",
        "\n",
        "def random_mini_batches(X, Y, mini_batch_size=64, seed=0):\n",
        "    \"\"\"\n",
        "    Creates a list of random minibatches from (X, Y)\n",
        "\n",
        "    Arguments:\n",
        "    X -- input data, of shape (input size, number of examples) (m, Hi, Wi, Ci)\n",
        "    Y -- true \"label\" vector (containing 0 if cat, 1 if non-cat), of shape (1, number of examples) (m, n_y)\n",
        "    mini_batch_size - size of the mini-batches, integer\n",
        "    seed -- this is only for the purpose of grading, so that you're \"random minibatches are the same as ours.\n",
        "\n",
        "    Returns:\n",
        "    mini_batches -- list of synchronous (mini_batch_X, mini_batch_Y)\n",
        "    \"\"\"\n",
        "\n",
        "    m = X.shape[0]                  # number of training examples\n",
        "    mini_batches = []\n",
        "    np.random.seed(seed)\n",
        "\n",
        "    # Step 1: Shuffle (X, Y)\n",
        "    permutation = list(np.random.permutation(m))\n",
        "    shuffled_X = X[permutation, :, :, :]\n",
        "    shuffled_Y = Y[permutation, :]\n",
        "\n",
        "    # Step 2: Partition (shuffled_X, shuffled_Y). Minus the end case.\n",
        "    # number of mini batches of size mini_batch_size in your partitionning\n",
        "    num_complete_minibatches = math.floor(m / mini_batch_size)\n",
        "    for k in range(0, num_complete_minibatches):\n",
        "        mini_batch_X = shuffled_X[k * mini_batch_size: k *\n",
        "                                  mini_batch_size + mini_batch_size, :, :, :]\n",
        "        mini_batch_Y = shuffled_Y[k * mini_batch_size: k *\n",
        "                                  mini_batch_size + mini_batch_size, :]\n",
        "        mini_batch = (mini_batch_X, mini_batch_Y)\n",
        "        mini_batches.append(mini_batch)\n",
        "\n",
        "    # Handling the end case (last mini-batch < mini_batch_size)\n",
        "    if m % mini_batch_size != 0:\n",
        "        mini_batch_X = shuffled_X[num_complete_minibatches *\n",
        "                                  mini_batch_size: m, :, :, :]\n",
        "        mini_batch_Y = shuffled_Y[num_complete_minibatches *\n",
        "                                  mini_batch_size: m, :]\n",
        "        mini_batch = (mini_batch_X, mini_batch_Y)\n",
        "        mini_batches.append(mini_batch)\n",
        "\n",
        "    return mini_batches\n",
        "\n",
        "\n",
        "def convert_to_one_hot(Y, C):\n",
        "    Y = np.eye(C)[Y.reshape(-1)].T\n",
        "    return Y\n",
        "\n",
        "\n",
        "def forward_propagation_for_predict(X, parameters):\n",
        "    \"\"\"\n",
        "    Implements the forward propagation for the model: LINEAR -> RELU -> LINEAR -> RELU -> LINEAR -> SOFTMAX\n",
        "\n",
        "    Arguments:\n",
        "    X -- input dataset placeholder, of shape (input size, number of examples)\n",
        "    parameters -- python dictionary containing your parameters \"W1\", \"b1\", \"W2\", \"b2\", \"W3\", \"b3\"\n",
        "                  the shapes are given in initialize_parameters\n",
        "\n",
        "    Returns:\n",
        "    Z3 -- the output of the last LINEAR unit\n",
        "    \"\"\"\n",
        "\n",
        "    # Retrieve the parameters from the dictionary \"parameters\"\n",
        "    W1 = parameters['W1']\n",
        "    b1 = parameters['b1']\n",
        "    W2 = parameters['W2']\n",
        "    b2 = parameters['b2']\n",
        "    W3 = parameters['W3']\n",
        "    b3 = parameters['b3']\n",
        "    # Numpy Equivalents:\n",
        "    # Z1 = np.dot(W1, X) + b1\n",
        "    Z1 = tf.add(tf.matmul(W1, X), b1)\n",
        "    A1 = tf.nn.relu(Z1)                                    # A1 = relu(Z1)\n",
        "    # Z2 = np.dot(W2, a1) + b2\n",
        "    Z2 = tf.add(tf.matmul(W2, A1), b2)\n",
        "    A2 = tf.nn.relu(Z2)                                    # A2 = relu(Z2)\n",
        "    # Z3 = np.dot(W3,Z2) + b3\n",
        "    Z3 = tf.add(tf.matmul(W3, A2), b3)\n",
        "\n",
        "    return Z3\n",
        "\n",
        "\n",
        "def predict(X, parameters):\n",
        "\n",
        "    W1 = tf.convert_to_tensor(parameters[\"W1\"])\n",
        "    b1 = tf.convert_to_tensor(parameters[\"b1\"])\n",
        "    W2 = tf.convert_to_tensor(parameters[\"W2\"])\n",
        "    b2 = tf.convert_to_tensor(parameters[\"b2\"])\n",
        "    W3 = tf.convert_to_tensor(parameters[\"W3\"])\n",
        "    b3 = tf.convert_to_tensor(parameters[\"b3\"])\n",
        "\n",
        "    params = {\"W1\": W1,\n",
        "              \"b1\": b1,\n",
        "              \"W2\": W2,\n",
        "              \"b2\": b2,\n",
        "              \"W3\": W3,\n",
        "              \"b3\": b3}\n",
        "\n",
        "    x = tf.placeholder(\"float\", [12288, 1])\n",
        "\n",
        "    z3 = forward_propagation_for_predict(x, params)\n",
        "    p = tf.argmax(z3)\n",
        "\n",
        "    sess = tf.Session()\n",
        "    prediction = sess.run(p, feed_dict={x: X})\n",
        "\n",
        "    return prediction\n"
      ],
      "metadata": {
        "id": "oW_5BUYJllJa"
      },
      "execution_count": null,
      "outputs": []
    },
    {
      "cell_type": "code",
      "source": [
        "\n",
        "# identity_block\n",
        "\n",
        "def identity_block(X, f, filters, initializer=random_uniform):\n",
        "    \"\"\"\n",
        "    Arguments:\n",
        "    X -- input tensor of shape (m, n_H_prev, n_W_prev, n_C_prev)\n",
        "    f -- integer, specifying the shape of the middle CONV's window for the main path\n",
        "    filters -- python list of integers, defining the number of filters in the CONV layers of the main path\n",
        "    initializer -- to set up the initial weights of a layer. Equals to random uniform initializer\n",
        "\n",
        "    Returns:\n",
        "    X -- output of the identity block, tensor of shape (m, n_H, n_W, n_C)\n",
        "    \"\"\"\n",
        "\n",
        "    # Retrieve Filters\n",
        "    F1, F2, F3 = filters\n",
        "\n",
        "    # Save the input value.\n",
        "    X_shortcut = X\n",
        "\n",
        "    # First component of main path\n",
        "    X = Conv2D(filters = F1, kernel_size = 1, strides = (1,1), padding = 'valid', kernel_initializer = initializer(seed=0))(X)\n",
        "    X = BatchNormalization(axis = 3)(X) # Default axis\n",
        "    X = Activation('relu')(X)\n",
        "\n",
        "    ## Second component of main path\n",
        "    X = Conv2D(filters = F2, kernel_size = (f, f), strides = (1,1), padding = 'same', kernel_initializer = initializer(seed=0))(X)\n",
        "    X = BatchNormalization(axis = 3)(X)\n",
        "    X = Activation('relu')(X)\n",
        "\n",
        "    ## Third component of main path\n",
        "    X = Conv2D(filters = F3, kernel_size = (1, 1), strides = (1,1), padding = 'valid', kernel_initializer = initializer(seed=0))(X)\n",
        "    X = BatchNormalization(axis = 3)(X)\n",
        "\n",
        "    ## Final step: Add shortcut value to main path, and pass it through a RELU activation\n",
        "    X = Add()([X, X_shortcut])\n",
        "    X = Activation('relu')(X)\n",
        "\n",
        "    return X"
      ],
      "metadata": {
        "id": "zkdW_VUmV5xe"
      },
      "execution_count": null,
      "outputs": []
    },
    {
      "cell_type": "code",
      "source": [
        "# creating convolutional_block function\n",
        "\n",
        "def convolutional_block(X, f, filters, s = 2, initializer=glorot_uniform):\n",
        "    \"\"\"\n",
        "    Arguments:\n",
        "    X -- input tensor of shape (m, n_H_prev, n_W_prev, n_C_prev)\n",
        "    f -- integer, specifying the shape of the middle CONV's window for the main path\n",
        "    filters -- python list of integers, defining the number of filters in the CONV layers of the main path\n",
        "    s -- Integer, specifying the stride to be used\n",
        "    initializer -- to set up the initial weights of a layer. Equals to Glorot uniform initializer,\n",
        "                   also called Xavier uniform initializer.\n",
        "\n",
        "    Returns:\n",
        "    X -- output of the convolutional block, tensor of shape (m, n_H, n_W, n_C)\n",
        "    \"\"\"\n",
        "\n",
        "    # Retrieve Filters\n",
        "    F1, F2, F3 = filters\n",
        "\n",
        "    # Saving the input value for shortcut\n",
        "    X_shortcut = X\n",
        "\n",
        "    ##### MAIN PATH #####\n",
        "\n",
        "    # First component of main path glorot_uniform(seed=0)\n",
        "    X = Conv2D(filters = F1, kernel_size = 1, strides = (s, s), padding='valid', kernel_initializer = initializer(seed=0))(X)\n",
        "    X = BatchNormalization(axis = 3)(X)\n",
        "    X = Activation('relu')(X)\n",
        "\n",
        "    ## Second component of main path\n",
        "    X = Conv2D(filters = F2, kernel_size = (f, f), strides = (1, 1), padding='same', kernel_initializer = initializer(seed=0))(X)\n",
        "    X = BatchNormalization(axis = 3)(X)\n",
        "    X = Activation('relu')(X)\n",
        "\n",
        "    ## Third component of main path\n",
        "    X = Conv2D(filters = F3, kernel_size = 1, strides = (1, 1), padding='valid', kernel_initializer = initializer(seed=0))(X)\n",
        "    X = BatchNormalization(axis = 3)(X)\n",
        "\n",
        "    ##### SHORTCUT PATH #####\n",
        "    X_shortcut = Conv2D(filters = F3, kernel_size = 1, strides = (s, s), padding='valid', kernel_initializer = initializer(seed=0))(X_shortcut)\n",
        "    X_shortcut = BatchNormalization(axis = 3)(X_shortcut)\n",
        "\n",
        "    # Final step: Adding shortcut value to main path and passing it through a RELU activation\n",
        "    X = Add()([X, X_shortcut])\n",
        "    X = Activation('relu')(X)\n",
        "\n",
        "    return X\n"
      ],
      "metadata": {
        "id": "E4FZ8v23aw69"
      },
      "execution_count": null,
      "outputs": []
    },
    {
      "cell_type": "code",
      "source": [
        "# Create a ResNet50 function (50 layers)\n",
        "\n",
        "def ResNet50(input_shape = (64, 64, 3), classes = 6, training=False):\n",
        "    \"\"\"\n",
        "    Stage-wise implementation of the architecture of the popular ResNet50:\n",
        "    CONV2D -> BATCHNORM -> RELU -> MAXPOOL -> CONVBLOCK -> IDBLOCK*2 -> CONVBLOCK -> IDBLOCK*3\n",
        "    -> CONVBLOCK -> IDBLOCK*5 -> CONVBLOCK -> IDBLOCK*2 -> AVGPOOL -> FLATTEN -> DENSE\n",
        "\n",
        "    Arguments:\n",
        "    input_shape -- shape of the images of the dataset\n",
        "    classes -- integer, number of classes\n",
        "\n",
        "    Returns:\n",
        "    model -- a Model() instance in Keras\n",
        "    \"\"\"\n",
        "\n",
        "    # Defining the input as a tensor with shape input_shape\n",
        "    X_input = Input(input_shape)\n",
        "\n",
        "\n",
        "    # Zero-Padding\n",
        "    X = ZeroPadding2D((3, 3))(X_input)\n",
        "\n",
        "    # Stage 1\n",
        "    X = Conv2D(64, (7, 7), strides = (2, 2), kernel_initializer = glorot_uniform(seed=0))(X)\n",
        "    X = BatchNormalization(axis = 3)(X)\n",
        "    X = Activation('relu')(X)\n",
        "    X = MaxPooling2D((3, 3), strides=(2, 2))(X)\n",
        "\n",
        "    # Stage 2\n",
        "    X = convolutional_block(X, f = 3, filters = [64, 64, 256], s = 1)\n",
        "    X = identity_block(X, 3, [64, 64, 256])\n",
        "    X = identity_block(X, 3, [64, 64, 256])\n",
        "\n",
        "    ## Stage 3\n",
        "    X = convolutional_block(X, f = 3, filters = [128, 128, 512], s = 2)\n",
        "    X = identity_block(X, 3, [128, 128, 512])\n",
        "    X = identity_block(X, 3, [128, 128, 512])\n",
        "    X = identity_block(X, 3, [128, 128, 512])\n",
        "\n",
        "    # Stage 4\n",
        "    X = convolutional_block(X, f = 3, filters = [256, 256, 1024], s = 2)\n",
        "    X = identity_block(X, 3, [256, 256, 1024])\n",
        "    X = identity_block(X, 3, [256, 256, 1024])\n",
        "    X = identity_block(X, 3, [256, 256, 1024])\n",
        "    X = identity_block(X, 3, [256, 256, 1024])\n",
        "    X = identity_block(X, 3, [256, 256, 1024])\n",
        "\n",
        "    # Stage 5\n",
        "    X = convolutional_block(X, f = 3, filters = [512, 512, 2048], s = 2)\n",
        "    X = identity_block(X, 3, [512, 512, 2048])\n",
        "    X = identity_block(X, 3, [512, 512, 2048])\n",
        "\n",
        "    # AVGPOOL\n",
        "    X =  AveragePooling2D(pool_size=(2,2))(X)\n",
        "\n",
        "    # output layer\n",
        "    X = Flatten()(X)\n",
        "    X = Dense(classes, activation='softmax', kernel_initializer = glorot_uniform(seed=0))(X)\n",
        "\n",
        "\n",
        "    # Creating the model\n",
        "    model = Model(inputs = X_input, outputs = X)\n",
        "\n",
        "    return model"
      ],
      "metadata": {
        "id": "xup0v-E9axSi"
      },
      "execution_count": null,
      "outputs": []
    },
    {
      "cell_type": "code",
      "source": [
        "# Compile the model\n",
        "model = ResNet50(input_shape = (64, 64, 3), classes = 6)\n",
        "\n",
        "np.random.seed(1)\n",
        "tf.random.set_seed(2)\n",
        "opt = tf.keras.optimizers.Adam(learning_rate=0.00015)\n",
        "model.compile(optimizer=opt, loss='categorical_crossentropy', metrics=['accuracy'])"
      ],
      "metadata": {
        "id": "cs00oe5oe2a0"
      },
      "execution_count": null,
      "outputs": []
    },
    {
      "cell_type": "code",
      "source": [
        "# Load the dataset [SIGN dataset]\n",
        "\n",
        "X_train_orig, Y_train_orig, X_test_orig, Y_test_orig, classes = load_dataset()\n",
        "\n",
        "# Normalize image vectors\n",
        "X_train = X_train_orig / 255.\n",
        "X_test = X_test_orig / 255.\n",
        "\n",
        "# Convert training and test labels to one hot matrices\n",
        "Y_train = convert_to_one_hot(Y_train_orig, 6).T\n",
        "Y_test = convert_to_one_hot(Y_test_orig, 6).T\n",
        "\n",
        "print (\"number of training examples = \" + str(X_train.shape[0]))\n",
        "print (\"number of test examples = \" + str(X_test.shape[0]))\n",
        "print (\"X_train shape: \" + str(X_train.shape))\n",
        "print (\"Y_train shape: \" + str(Y_train.shape))\n",
        "print (\"X_test shape: \" + str(X_test.shape))\n",
        "print (\"Y_test shape: \" + str(Y_test.shape))"
      ],
      "metadata": {
        "colab": {
          "base_uri": "https://localhost:8080/"
        },
        "id": "sPISMGTye2vK",
        "outputId": "4f3eed3d-8d16-47cc-c5a2-1d5c3893e8c8"
      },
      "execution_count": null,
      "outputs": [
        {
          "output_type": "stream",
          "name": "stdout",
          "text": [
            "number of training examples = 1080\n",
            "number of test examples = 120\n",
            "X_train shape: (1080, 64, 64, 3)\n",
            "Y_train shape: (1080, 6)\n",
            "X_test shape: (120, 64, 64, 3)\n",
            "Y_test shape: (120, 6)\n"
          ]
        }
      ]
    },
    {
      "cell_type": "code",
      "source": [
        "# Run or fit the model on the dataset.\n",
        "\n",
        "model.fit(X_train, Y_train, epochs = 20, batch_size = 32)"
      ],
      "metadata": {
        "id": "wseVx8klgJ32",
        "colab": {
          "base_uri": "https://localhost:8080/"
        },
        "outputId": "46d2c77a-6dd1-45d9-ad21-53ab6060a175"
      },
      "execution_count": null,
      "outputs": [
        {
          "output_type": "stream",
          "name": "stdout",
          "text": [
            "Epoch 1/20\n",
            "34/34 [==============================] - 54s 150ms/step - loss: 1.8369 - accuracy: 0.3500\n",
            "Epoch 2/20\n",
            "34/34 [==============================] - 3s 84ms/step - loss: 1.1424 - accuracy: 0.5861\n",
            "Epoch 3/20\n",
            "34/34 [==============================] - 3s 84ms/step - loss: 0.7661 - accuracy: 0.7222\n",
            "Epoch 4/20\n",
            "34/34 [==============================] - 3s 101ms/step - loss: 0.4249 - accuracy: 0.8454\n",
            "Epoch 5/20\n",
            "34/34 [==============================] - 3s 83ms/step - loss: 0.2540 - accuracy: 0.9139\n",
            "Epoch 6/20\n",
            "34/34 [==============================] - 3s 85ms/step - loss: 0.1935 - accuracy: 0.9324\n",
            "Epoch 7/20\n",
            "34/34 [==============================] - 3s 85ms/step - loss: 0.1522 - accuracy: 0.9546\n",
            "Epoch 8/20\n",
            "34/34 [==============================] - 3s 95ms/step - loss: 0.0942 - accuracy: 0.9620\n",
            "Epoch 9/20\n",
            "34/34 [==============================] - 3s 91ms/step - loss: 0.1186 - accuracy: 0.9630\n",
            "Epoch 10/20\n",
            "34/34 [==============================] - 3s 85ms/step - loss: 0.1390 - accuracy: 0.9509\n",
            "Epoch 11/20\n",
            "34/34 [==============================] - 3s 84ms/step - loss: 0.1148 - accuracy: 0.9630\n",
            "Epoch 12/20\n",
            "34/34 [==============================] - 3s 91ms/step - loss: 0.0898 - accuracy: 0.9685\n",
            "Epoch 13/20\n",
            "34/34 [==============================] - 3s 95ms/step - loss: 0.1695 - accuracy: 0.9593\n",
            "Epoch 14/20\n",
            "34/34 [==============================] - 3s 86ms/step - loss: 0.1039 - accuracy: 0.9620\n",
            "Epoch 15/20\n",
            "34/34 [==============================] - 3s 87ms/step - loss: 0.0886 - accuracy: 0.9694\n",
            "Epoch 16/20\n",
            "34/34 [==============================] - 3s 90ms/step - loss: 0.0393 - accuracy: 0.9898\n",
            "Epoch 17/20\n",
            "34/34 [==============================] - 3s 95ms/step - loss: 0.0585 - accuracy: 0.9806\n",
            "Epoch 18/20\n",
            "34/34 [==============================] - 3s 85ms/step - loss: 0.0730 - accuracy: 0.9796\n",
            "Epoch 19/20\n",
            "34/34 [==============================] - 3s 85ms/step - loss: 0.0610 - accuracy: 0.9815\n",
            "Epoch 20/20\n",
            "34/34 [==============================] - 3s 84ms/step - loss: 0.1298 - accuracy: 0.9546\n"
          ]
        },
        {
          "output_type": "execute_result",
          "data": {
            "text/plain": [
              "<keras.src.callbacks.History at 0x7cc888139360>"
            ]
          },
          "metadata": {},
          "execution_count": 10
        }
      ]
    },
    {
      "cell_type": "code",
      "source": [
        "# Evaluate model\n",
        "preds = model.evaluate(X_test, Y_test)\n",
        "print (\"Loss = \" + str(preds[0]))\n",
        "print (\"Test Accuracy = \" + str(preds[1]))"
      ],
      "metadata": {
        "id": "X1x4lG1YgMNX",
        "colab": {
          "base_uri": "https://localhost:8080/"
        },
        "outputId": "cd3c1c6d-cb98-4ab4-befb-13da4e1d9b81"
      },
      "execution_count": null,
      "outputs": [
        {
          "output_type": "stream",
          "name": "stdout",
          "text": [
            "4/4 [==============================] - 2s 32ms/step - loss: 0.6917 - accuracy: 0.8333\n",
            "Loss = 0.6917493343353271\n",
            "Test Accuracy = 0.8333333134651184\n"
          ]
        }
      ]
    },
    {
      "cell_type": "markdown",
      "source": [
        "Testing on personal or other loaded images\n",
        "\n"
      ],
      "metadata": {
        "id": "Buu5I_8Yj51X"
      }
    },
    {
      "cell_type": "code",
      "source": [
        "img_path = 'sample_data/my_image_5.jpeg'\n",
        "img = image.load_img(img_path, target_size=(64, 64))\n",
        "x = image.img_to_array(img)\n",
        "x = np.expand_dims(x, axis=0)\n",
        "x = x/255.0\n",
        "x2 = x\n",
        "print('Input image shape:', x.shape)\n",
        "imshow(img)\n",
        "prediction = model.predict(x2)\n",
        "print(\"Class prediction vector [p(0), p(1), p(2), p(3), p(4), p(5)] = \", prediction)\n",
        "print(\"Class:\", np.argmax(prediction))"
      ],
      "metadata": {
        "id": "mPyGSh4LifSp",
        "colab": {
          "base_uri": "https://localhost:8080/",
          "height": 539
        },
        "outputId": "13fbcaaf-db04-46ab-ffbf-fb2506e87dcc"
      },
      "execution_count": null,
      "outputs": [
        {
          "output_type": "stream",
          "name": "stdout",
          "text": [
            "Input image shape: (1, 64, 64, 3)\n",
            "1/1 [==============================] - 0s 25ms/step\n",
            "Class prediction vector [p(0), p(1), p(2), p(3), p(4), p(5)] =  [[2.9742211e-04 2.3116965e-02 9.5070529e-01 1.8158671e-02 6.1091367e-04\n",
            "  7.1108444e-03]]\n",
            "Class: 2\n"
          ]
        },
        {
          "output_type": "display_data",
          "data": {
            "text/plain": [
              "<Figure size 640x480 with 1 Axes>"
            ],
            "image/png": "[encoded data removed]"
          },
          "metadata": {}
        }
      ]
    },
    {
      "cell_type": "code",
      "source": [
        "img_path = 'sample_data/my_image_1.jpeg'\n",
        "img = image.load_img(img_path, target_size=(64, 64))\n",
        "x = image.img_to_array(img)\n",
        "x = np.expand_dims(x, axis=0)\n",
        "x = x/255.0\n",
        "x2 = x\n",
        "print('Input image shape:', x.shape)\n",
        "imshow(img)\n",
        "prediction = model.predict(x2)\n",
        "print(\"Class prediction vector [p(0), p(1), p(2), p(3), p(4), p(5)] = \", prediction)\n",
        "print(\"Class:\", np.argmax(prediction))"
      ],
      "metadata": {
        "colab": {
          "base_uri": "https://localhost:8080/",
          "height": 539
        },
        "id": "ZqphumhQykv8",
        "outputId": "61b513dd-e730-4392-ab06-f39da0ece68f"
      },
      "execution_count": null,
      "outputs": [
        {
          "output_type": "stream",
          "name": "stdout",
          "text": [
            "Input image shape: (1, 64, 64, 3)\n",
            "1/1 [==============================] - 0s 124ms/step\n",
            "Class prediction vector [p(0), p(1), p(2), p(3), p(4), p(5)] =  [[2.3733701e-06 9.0191889e-01 9.7844683e-02 2.9080813e-05 2.4876892e-05\n",
            "  1.8000750e-04]]\n",
            "Class: 1\n"
          ]
        },
        {
          "output_type": "display_data",
          "data": {
            "text/plain": [
              "<Figure size 640x480 with 1 Axes>"
            ],
            "image/png": "[encoded data removed]"
          },
          "metadata": {}
        }
      ]
    },
    {
      "cell_type": "code",
      "source": [
        "img_path = 'sample_data/my_image.jpg'\n",
        "img = image.load_img(img_path, target_size=(64, 64))\n",
        "x = image.img_to_array(img)\n",
        "x = np.expand_dims(x, axis=0)\n",
        "x = x/255.0\n",
        "x2 = x\n",
        "print('Input image shape:', x.shape)\n",
        "imshow(img)\n",
        "prediction = model.predict(x2)\n",
        "print(\"Class prediction vector [p(0), p(1), p(2), p(3), p(4), p(5)] = \", prediction)\n",
        "print(\"Class:\", np.argmax(prediction))"
      ],
      "metadata": {
        "colab": {
          "base_uri": "https://localhost:8080/",
          "height": 539
        },
        "id": "JWlVsivHyvEj",
        "outputId": "0cd91b86-ada5-426e-f6ee-af80f558d1e2"
      },
      "execution_count": null,
      "outputs": [
        {
          "output_type": "stream",
          "name": "stdout",
          "text": [
            "Input image shape: (1, 64, 64, 3)\n",
            "1/1 [==============================] - 0s 26ms/step\n",
            "Class prediction vector [p(0), p(1), p(2), p(3), p(4), p(5)] =  [[7.9275367e-08 3.5858946e-03 9.9525011e-01 1.0284063e-03 9.1741480e-05\n",
            "  4.3779168e-05]]\n",
            "Class: 2\n"
          ]
        },
        {
          "output_type": "display_data",
          "data": {
            "text/plain": [
              "<Figure size 640x480 with 1 Axes>"
            ],
            "image/png": "[encoded data removed]"
          },
          "metadata": {}
        }
      ]
    },
    {
      "cell_type": "markdown",
      "source": [
        "Even though the model has high accuracy, it might be performing poorly on your own set of images. Notice that, the shape of the pictures, the lighting where the photos were taken, and all of the preprocessing steps can have an impact on the performance of the model."
      ],
      "metadata": {
        "id": "7nInDhCzWFs2"
      }
    },
    {
      "cell_type": "code",
      "source": [],
      "metadata": {
        "id": "ahdX85qyWHni"
      },
      "execution_count": null,
      "outputs": []
    }
  ]
}